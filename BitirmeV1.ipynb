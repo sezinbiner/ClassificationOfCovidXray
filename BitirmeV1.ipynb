{
  "nbformat": 4,
  "nbformat_minor": 0,
  "metadata": {
    "colab": {
      "name": "BitirmeV1.ipynb",
      "provenance": [],
      "include_colab_link": true
    },
    "kernelspec": {
      "name": "python3",
      "display_name": "Python 3"
    },
    "language_info": {
      "name": "python"
    }
  },
  "cells": [
    {
      "cell_type": "markdown",
      "metadata": {
        "id": "view-in-github",
        "colab_type": "text"
      },
      "source": [
        "<a href=\"https://colab.research.google.com/github/sezinbiner/ClassificationOfCovidXray/blob/main/BitirmeV1.ipynb\" target=\"_parent\"><img src=\"https://colab.research.google.com/assets/colab-badge.svg\" alt=\"Open In Colab\"/></a>"
      ]
    },
    {
      "cell_type": "code",
      "metadata": {
        "colab": {
          "base_uri": "https://localhost:8080/"
        },
        "id": "p12uN1-vvtyO",
        "outputId": "7560c2ed-01ad-4958-bb3c-f703db2e8a59"
      },
      "source": [
        "from google.colab import drive\n",
        "drive.mount('/content/gdrive')"
      ],
      "execution_count": 1,
      "outputs": [
        {
          "output_type": "stream",
          "text": [
            "Mounted at /content/gdrive\n"
          ],
          "name": "stdout"
        }
      ]
    },
    {
      "cell_type": "code",
      "metadata": {
        "colab": {
          "base_uri": "https://localhost:8080/"
        },
        "id": "acYr7v0A18Q-",
        "outputId": "d3669919-2926-4c2e-b50d-8ce5a6ed63ac"
      },
      "source": [
        "import cv2\n",
        "import os\n",
        "DATADIR = \"/content/gdrive/MyDrive/Kaggle/COVID-19_Radiography_Dataset\" \n",
        "classes = [\"COVID\",\"Normal\"] \n",
        "\n",
        "X = []\n",
        "y = []\n",
        "\n",
        "for class_name in classes: \n",
        "  path = os.path.join(DATADIR,class_name)\n",
        "  print(path)\n",
        "  os.chdir(path) \n",
        "  for im in os.listdir(path):\n",
        "      try:\n",
        "          img = cv2.imread(im,cv2.IMREAD_COLOR)     \n",
        "          X.append(img)      \n",
        "      except Exception as e:\n",
        "          pass"
      ],
      "execution_count": null,
      "outputs": [
        {
          "output_type": "stream",
          "text": [
            "/content/gdrive/MyDrive/Kaggle/COVID-19_Radiography_Dataset/COVID\n"
          ],
          "name": "stdout"
        }
      ]
    },
    {
      "cell_type": "code",
      "metadata": {
        "id": "u8VcpJROMHXR"
      },
      "source": [
        "print(\"selin\")"
      ],
      "execution_count": null,
      "outputs": []
    },
    {
      "cell_type": "code",
      "metadata": {
        "colab": {
          "base_uri": "https://localhost:8080/"
        },
        "id": "PUtAG6V53OYO",
        "outputId": "0c15bf36-40ff-4dd7-8990-d24bb64dbe9d"
      },
      "source": [
        "len(X)"
      ],
      "execution_count": null,
      "outputs": [
        {
          "output_type": "execute_result",
          "data": {
            "text/plain": [
              "13808"
            ]
          },
          "metadata": {
            "tags": []
          },
          "execution_count": 12
        }
      ]
    }
  ]
}