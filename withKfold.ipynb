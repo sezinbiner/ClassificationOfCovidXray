{
  "nbformat": 4,
  "nbformat_minor": 0,
  "metadata": {
    "accelerator": "GPU",
    "colab": {
      "name": "sparse.ipynb adlı not defterinin kopyası",
      "provenance": [],
      "collapsed_sections": [],
      "include_colab_link": true
    },
    "kernelspec": {
      "display_name": "Python 3",
      "name": "python3"
    },
    "language_info": {
      "name": "python"
    }
  },
  "cells": [
    {
      "cell_type": "markdown",
      "metadata": {
        "id": "view-in-github",
        "colab_type": "text"
      },
      "source": [
        "<a href=\"https://colab.research.google.com/github/sezinbiner/ClassificationOfCovidXray/blob/main/withKfold.ipynb\" target=\"_parent\"><img src=\"https://colab.research.google.com/assets/colab-badge.svg\" alt=\"Open In Colab\"/></a>"
      ]
    },
    {
      "cell_type": "code",
      "metadata": {
        "colab": {
          "base_uri": "https://localhost:8080/"
        },
        "id": "mtnWtgnIIJ0p",
        "outputId": "c0136f56-4895-4141-a287-a160718119bd"
      },
      "source": [
        " from google.colab import drive\n",
        "drive.mount('/content/gdrive')"
      ],
      "execution_count": 6,
      "outputs": [
        {
          "output_type": "stream",
          "text": [
            "Drive already mounted at /content/gdrive; to attempt to forcibly remount, call drive.mount(\"/content/gdrive\", force_remount=True).\n"
          ],
          "name": "stdout"
        }
      ]
    },
    {
      "cell_type": "code",
      "metadata": {
        "colab": {
          "base_uri": "https://localhost:8080/"
        },
        "id": "kxTJRvUE3FlD",
        "outputId": "00f3b8e4-8f81-47de-8535-f6ac9e6e9422"
      },
      "source": [
        "from tensorflow.keras.preprocessing.image import ImageDataGenerator\n",
        "datagen = ImageDataGenerator(rescale=1./255)\n",
        "generator_dir = \"/content/gdrive/MyDrive/Kaggle/COVID-19_Radiography_Dataset\"\n",
        "\n",
        "class_names = ['COVID', 'Normal']\n",
        "generator = datagen.flow_from_directory(\n",
        "        generator_dir,\n",
        "        target_size=(224, 224),  \n",
        "        batch_size=20,\n",
        "        shuffle=True,\n",
        "        class_mode='binary')\n"
      ],
      "execution_count": 1,
      "outputs": [
        {
          "output_type": "stream",
          "text": [
            "Found 13808 images belonging to 2 classes.\n"
          ],
          "name": "stdout"
        }
      ]
    },
    {
      "cell_type": "code",
      "metadata": {
        "id": "Ljyk1hmd31sI"
      },
      "source": [
        "def extract_features(number_of_images, generator, batch_size):\n",
        "  features = np.zeros(shape=(number_of_images, extraction_layer.output_shape[1], extraction_layer.output_shape[2], extraction_layer.output_shape[3]))\n",
        "  labels = np.zeros(shape=(number_of_images))\n",
        "  i = 0\n",
        "  print(\"loop\")\n",
        "  for inputs_batch, labels_batch in generator:\n",
        "      print(i)\n",
        "      features_batch = extraction_layer.predict(inputs_batch)\n",
        "      features[i * batch_size : (i + 1) * batch_size] = features_batch\n",
        "      labels[i * batch_size : (i + 1) * batch_size] = labels_batch\n",
        "      i += 1\n",
        "      if i * batch_size >= number_of_images:\n",
        "          break\n",
        "  print(\"loop over\")\n",
        "  return features, labels"
      ],
      "execution_count": 2,
      "outputs": []
    },
    {
      "cell_type": "code",
      "metadata": {
        "colab": {
          "base_uri": "https://localhost:8080/"
        },
        "id": "W5AvNZH7ISdE",
        "outputId": "0a6178ed-079c-42a4-e9ea-a4fcd0801175"
      },
      "source": [
        "from keras.preprocessing import image\n",
        "from keras.applications.vgg16 import VGG16\n",
        "from keras.applications.inception_v3 import  InceptionV3\n",
        "import numpy as np\n",
        "\n",
        "extraction_layer = VGG16(\n",
        "    weights='imagenet',\n",
        "    include_top=False,\n",
        "    input_shape=(224,224,3)\n",
        ")\n",
        "extraction_layer.summary()"
      ],
      "execution_count": 3,
      "outputs": [
        {
          "output_type": "stream",
          "text": [
            "Model: \"vgg16\"\n",
            "_________________________________________________________________\n",
            "Layer (type)                 Output Shape              Param #   \n",
            "=================================================================\n",
            "input_1 (InputLayer)         [(None, 224, 224, 3)]     0         \n",
            "_________________________________________________________________\n",
            "block1_conv1 (Conv2D)        (None, 224, 224, 64)      1792      \n",
            "_________________________________________________________________\n",
            "block1_conv2 (Conv2D)        (None, 224, 224, 64)      36928     \n",
            "_________________________________________________________________\n",
            "block1_pool (MaxPooling2D)   (None, 112, 112, 64)      0         \n",
            "_________________________________________________________________\n",
            "block2_conv1 (Conv2D)        (None, 112, 112, 128)     73856     \n",
            "_________________________________________________________________\n",
            "block2_conv2 (Conv2D)        (None, 112, 112, 128)     147584    \n",
            "_________________________________________________________________\n",
            "block2_pool (MaxPooling2D)   (None, 56, 56, 128)       0         \n",
            "_________________________________________________________________\n",
            "block3_conv1 (Conv2D)        (None, 56, 56, 256)       295168    \n",
            "_________________________________________________________________\n",
            "block3_conv2 (Conv2D)        (None, 56, 56, 256)       590080    \n",
            "_________________________________________________________________\n",
            "block3_conv3 (Conv2D)        (None, 56, 56, 256)       590080    \n",
            "_________________________________________________________________\n",
            "block3_pool (MaxPooling2D)   (None, 28, 28, 256)       0         \n",
            "_________________________________________________________________\n",
            "block4_conv1 (Conv2D)        (None, 28, 28, 512)       1180160   \n",
            "_________________________________________________________________\n",
            "block4_conv2 (Conv2D)        (None, 28, 28, 512)       2359808   \n",
            "_________________________________________________________________\n",
            "block4_conv3 (Conv2D)        (None, 28, 28, 512)       2359808   \n",
            "_________________________________________________________________\n",
            "block4_pool (MaxPooling2D)   (None, 14, 14, 512)       0         \n",
            "_________________________________________________________________\n",
            "block5_conv1 (Conv2D)        (None, 14, 14, 512)       2359808   \n",
            "_________________________________________________________________\n",
            "block5_conv2 (Conv2D)        (None, 14, 14, 512)       2359808   \n",
            "_________________________________________________________________\n",
            "block5_conv3 (Conv2D)        (None, 14, 14, 512)       2359808   \n",
            "_________________________________________________________________\n",
            "block5_pool (MaxPooling2D)   (None, 7, 7, 512)         0         \n",
            "=================================================================\n",
            "Total params: 14,714,688\n",
            "Trainable params: 14,714,688\n",
            "Non-trainable params: 0\n",
            "_________________________________________________________________\n"
          ],
          "name": "stdout"
        }
      ]
    },
    {
      "cell_type": "code",
      "metadata": {
        "colab": {
          "base_uri": "https://localhost:8080/"
        },
        "id": "aitwo7k3_Ib_",
        "outputId": "2bb4e1d0-04b5-4df0-aff3-682ea54fd0d1"
      },
      "source": [
        "features,labels = extract_features(13808, generator, generator.batch_size)"
      ],
      "execution_count": null,
      "outputs": [
        {
          "output_type": "stream",
          "text": [
            "loop\n",
            "0\n",
            "1\n",
            "2\n",
            "3\n",
            "4\n",
            "5\n",
            "6\n",
            "7\n",
            "8\n",
            "9\n",
            "10\n",
            "11\n",
            "12\n",
            "13\n",
            "14\n",
            "15\n",
            "16\n",
            "17\n",
            "18\n",
            "19\n",
            "20\n",
            "21\n",
            "22\n",
            "23\n",
            "24\n",
            "25\n",
            "26\n",
            "27\n",
            "28\n",
            "29\n",
            "30\n",
            "31\n",
            "32\n",
            "33\n",
            "34\n",
            "35\n",
            "36\n",
            "37\n",
            "38\n",
            "39\n",
            "40\n"
          ],
          "name": "stdout"
        }
      ]
    },
    {
      "cell_type": "code",
      "metadata": {
        "id": "_CvNxr3r_nko"
      },
      "source": [
        "from keras.models import Sequential\n",
        "from keras import models\n",
        "from keras import layers\n",
        "model = models.Sequential()\n",
        "model.add(layers.Flatten())\n",
        "model.add(layers.Dense(128, activation='relu'))\n",
        "model.add(layers.Dropout(0.5))\n",
        "model.add(layers.Dense(1, activation='sigmoid'))\n",
        "model.compile(\n",
        "    loss='binary_crossentropy',\n",
        "    optimizer= \"adam\" ,\n",
        "    metrics=['accuracy']\n",
        ")"
      ],
      "execution_count": null,
      "outputs": []
    },
    {
      "cell_type": "code",
      "metadata": {
        "id": "-2zX7zweAHZl",
        "colab": {
          "base_uri": "https://localhost:8080/"
        },
        "outputId": "7c654f1d-e022-446d-e396-3792a979464d"
      },
      "source": [
        "from sklearn.model_selection import KFold                    \n",
        "kf = KFold(n_splits=10)\n",
        "X = features\n",
        "y = labels\n",
        "kf.get_n_splits(X)\n",
        "i = 1\n",
        "#Trying different train and test sets for higher accuracy\n",
        "for train_index,test_index in kf.split(X)[1]:\n",
        "    print(\"\\n\")\n",
        "    print(f\"Fold : {i}\")\n",
        "    print(\"Train:\",train_index, \"Test:\", test_index)\n",
        "    i = i +1\n",
        "    X_train = X[train_index]                           \n",
        "    X_test = X[test_index]\n",
        "    y_train = y[train_index]\n",
        "    y_test = y[test_index]\n",
        "\n",
        "    history = model.fit(X_train, y_train,\n",
        "                    epochs=10,\n",
        "                    batch_size=20,\n",
        "                    validation_split=0.2)\n",
        "    from sklearn import metrics\n",
        "    y_pred = model.predict(X_test)\n",
        "    probas = np.array(y_pred)\n",
        "    labels = []\n",
        "    for prob in probas:\n",
        "      if prob < 0.5:\n",
        "        labels.append(0)\n",
        "      else:\n",
        "        labels.append(1)\n",
        "    y_true_labels = y_test\n",
        "    y_pred_labels = labels\n",
        "    from sklearn.metrics import accuracy_score, precision_score, recall_score, f1_score\n",
        "    # accuracy: (tp + tn) / (p + n)\n",
        "    accuracy = accuracy_score(y_true_labels, y_pred_labels)\n",
        "    print('Accuracy: %f' % accuracy)\n",
        "    # precision tp / (tp + fp)\n",
        "    precision = precision_score(y_true_labels, y_pred_labels,pos_label='positive', average='micro')\n",
        "    print('Precision: %f' % precision)\n",
        "    # recall: tp / (tp + fn)\n",
        "    recall = recall_score(y_true_labels, y_pred_labels, average='micro')\n",
        "    print('Recall: %f' % recall)\n",
        "    # f1: 2 tp / (2 tp + fp + fn)\n",
        "    f1 = f1_score(y_true_labels, y_pred_labels, average='weighted')\n",
        "    print('F1 score: %f' % f1)\n",
        "    from sklearn.metrics import classification_report\n",
        "    print(classification_report(y_true_labels, y_pred_labels, target_names=[\"covid\", \"normal\"]))\n",
        "    from sklearn.metrics import confusion_matrix\n",
        "    print(confusion_matrix(y_true_labels, y_pred_labels))\n"
      ],
      "execution_count": null,
      "outputs": [
        {
          "output_type": "stream",
          "text": [
            "\n",
            "\n",
            "Fold : 1\n",
            "Train: [ 1381  1382  1383 ... 13805 13806 13807] Test: [   0    1    2 ... 1378 1379 1380]\n",
            "Epoch 1/10\n",
            "498/498 [==============================] - 2s 5ms/step - loss: 0.1565 - accuracy: 0.9245 - val_loss: 0.0709 - val_accuracy: 0.9751\n",
            "Epoch 2/10\n",
            "498/498 [==============================] - 2s 4ms/step - loss: 0.1504 - accuracy: 0.9291 - val_loss: 0.0891 - val_accuracy: 0.9654\n",
            "Epoch 3/10\n",
            "498/498 [==============================] - 2s 4ms/step - loss: 0.1502 - accuracy: 0.9248 - val_loss: 0.0651 - val_accuracy: 0.9767\n",
            "Epoch 4/10\n",
            "498/498 [==============================] - 2s 4ms/step - loss: 0.1495 - accuracy: 0.9277 - val_loss: 0.0706 - val_accuracy: 0.9775\n",
            "Epoch 5/10\n",
            "498/498 [==============================] - 3s 5ms/step - loss: 0.1460 - accuracy: 0.9318 - val_loss: 0.0669 - val_accuracy: 0.9767\n",
            "Epoch 6/10\n",
            "498/498 [==============================] - 2s 4ms/step - loss: 0.1442 - accuracy: 0.9305 - val_loss: 0.0653 - val_accuracy: 0.9759\n",
            "Epoch 7/10\n",
            "498/498 [==============================] - 2s 4ms/step - loss: 0.1363 - accuracy: 0.9346 - val_loss: 0.0766 - val_accuracy: 0.9759\n",
            "Epoch 8/10\n",
            "498/498 [==============================] - 2s 4ms/step - loss: 0.1242 - accuracy: 0.9417 - val_loss: 0.0672 - val_accuracy: 0.9751\n",
            "Epoch 9/10\n",
            "498/498 [==============================] - 2s 4ms/step - loss: 0.1340 - accuracy: 0.9368 - val_loss: 0.0646 - val_accuracy: 0.9799\n",
            "Epoch 10/10\n",
            "498/498 [==============================] - 2s 4ms/step - loss: 0.1273 - accuracy: 0.9418 - val_loss: 0.0983 - val_accuracy: 0.9726\n",
            "Accuracy: 0.978277\n",
            "Precision: 0.978277\n",
            "Recall: 0.978277\n",
            "F1 score: 0.978071\n",
            "              precision    recall  f1-score   support\n",
            "\n",
            "       covid       0.99      0.93      0.96       380\n",
            "      normal       0.97      1.00      0.99      1001\n",
            "\n",
            "    accuracy                           0.98      1381\n",
            "   macro avg       0.98      0.96      0.97      1381\n",
            "weighted avg       0.98      0.98      0.98      1381\n",
            "\n",
            "\n",
            "\n",
            "Fold : 2\n",
            "Train: [    0     1     2 ... 13805 13806 13807] Test: [1381 1382 1383 ... 2759 2760 2761]\n"
          ],
          "name": "stdout"
        },
        {
          "output_type": "stream",
          "text": [
            "/usr/local/lib/python3.7/dist-packages/sklearn/metrics/_classification.py:1321: UserWarning: Note that pos_label (set to 'positive') is ignored when average != 'binary' (got 'micro'). You may use labels=[pos_label] to specify a single positive class.\n",
            "  % (pos_label, average), UserWarning)\n"
          ],
          "name": "stderr"
        }
      ]
    },
    {
      "cell_type": "code",
      "metadata": {
        "id": "Ra1ImmsyCwOp"
      },
      "source": [
        "from sklearn import metrics\n",
        "y_pred = model.predict(test_features)\n",
        "probas = np.array(y_pred)\n",
        "labels = []\n",
        "for prob in probas:\n",
        "  if prob < 0.5:\n",
        "    labels.append(0)\n",
        "  else:\n",
        "    labels.append(1)\n",
        "y_true_labels = test_labels\n",
        "y_pred_labels = labels\n",
        "from sklearn.metrics import accuracy_score, precision_score, recall_score, f1_score\n",
        "# accuracy: (tp + tn) / (p + n)\n",
        "accuracy = accuracy_score(y_true_labels, y_pred_labels)\n",
        "print('Accuracy: %f' % accuracy)\n",
        "# precision tp / (tp + fp)\n",
        "precision = precision_score(y_true_labels, y_pred_labels,pos_label='positive', average='micro')\n",
        "print('Precision: %f' % precision)\n",
        "# recall: tp / (tp + fn)\n",
        "recall = recall_score(y_true_labels, y_pred_labels, average='micro')\n",
        "print('Recall: %f' % recall)\n",
        "# f1: 2 tp / (2 tp + fp + fn)\n",
        "f1 = f1_score(y_true_labels, y_pred_labels, average='weighted')\n",
        "print('F1 score: %f' % f1)\n",
        "from sklearn.metrics import classification_report\n",
        "print(classification_report(y_true_labels, y_pred_labels, target_names=[\"covid\", \"normal\"]))\n",
        "from sklearn.metrics import confusion_matrix\n",
        "confusion_matrix(y_true_labels, y_pred_labels)"
      ],
      "execution_count": null,
      "outputs": []
    },
    {
      "cell_type": "code",
      "metadata": {
        "id": "S5Vus5RfFTEw"
      },
      "source": [
        "from keras.preprocessing import image\n",
        "from keras.applications.vgg16 import VGG16\n",
        "from keras.applications.inception_v3 import  InceptionV3\n",
        "from tensorflow.python.keras.applications.nasnet import NASNetMobile\n",
        "import numpy as np\n",
        "\n",
        "extraction_layer = NASNetMobile(\n",
        "    weights='imagenet',\n",
        "    include_top=False,\n",
        "    input_shape=(224,224,3)\n",
        ")\n",
        "extraction_layer.summary()"
      ],
      "execution_count": null,
      "outputs": []
    },
    {
      "cell_type": "code",
      "metadata": {
        "id": "4EILeAHmGT7r"
      },
      "source": [
        "train_features, train_labels = extract_features(4800, train_generator, 20)\n",
        "validation_features, validation_labels = extract_features(1200, validation_generator, 20)"
      ],
      "execution_count": null,
      "outputs": []
    },
    {
      "cell_type": "code",
      "metadata": {
        "id": "aewLpgl9GhE0"
      },
      "source": [
        "from keras.models import Sequential\n",
        "from keras import models\n",
        "from keras import layers\n",
        "model = models.Sequential()\n",
        "model.add(layers.Flatten())\n",
        "model.add(layers.Dense(128, activation='relu'))\n",
        "model.add(layers.Dropout(0.5))\n",
        "model.add(layers.Dense(1, activation='sigmoid'))\n",
        "model.compile(\n",
        "    loss='binary_crossentropy',\n",
        "    optimizer= \"adam\" ,\n",
        "    metrics=['accuracy']\n",
        ")"
      ],
      "execution_count": null,
      "outputs": []
    },
    {
      "cell_type": "code",
      "metadata": {
        "id": "Fgna7g0lHdNF"
      },
      "source": [
        "from keras.callbacks import Callback, ModelCheckpoint, ReduceLROnPlateau\n",
        "learn_control = ReduceLROnPlateau(monitor='accuracy', patience=5,\n",
        "                                  verbose=1,factor=0.2, min_lr=1e-7)\n",
        "\n",
        "model_checkpoint = ModelCheckpoint('/content/gdrive/My Drive/models/nasnasnet.h5', monitor='val_loss', mode='min', verbose=1, save_best_only=True)"
      ],
      "execution_count": null,
      "outputs": []
    },
    {
      "cell_type": "code",
      "metadata": {
        "id": "Z9xnGPeTGkUB"
      },
      "source": [
        "history = model.fit(train_features, train_labels,\n",
        "                    epochs=100,\n",
        "                    batch_size=16,\n",
        "                    validation_data=(validation_features, validation_labels),\n",
        "                    callbacks=[learn_control, model_checkpoint])"
      ],
      "execution_count": null,
      "outputs": []
    },
    {
      "cell_type": "code",
      "metadata": {
        "id": "aOm3IKVMG-j5"
      },
      "source": [
        "import matplotlib.pyplot as plt\n",
        "\n",
        "acc = history.history['accuracy']\n",
        "val_acc = history.history['val_accuracy']\n",
        "loss = history.history['loss']\n",
        "val_loss = history.history['val_loss']\n",
        "epochs = range(1, len(acc) + 1)\n",
        "\n",
        "f, axes = plt.subplots(1,2,figsize=(14,4))\n",
        "\n",
        "axes[0].plot(epochs, acc, 'bo', label='Training acc')\n",
        "axes[0].plot(epochs, val_acc, 'b', label='Validation acc')\n",
        "axes[0].legend()\n",
        "\n",
        "axes[1].plot(epochs, loss, 'bo', label='Training loss')\n",
        "axes[1].plot(epochs, val_loss, 'b', label='Validation loss')\n",
        "axes[1].yaxis.set_label_position(\"right\")\n",
        "axes[1].legend()\n",
        "\n",
        "plt.show()"
      ],
      "execution_count": null,
      "outputs": []
    },
    {
      "cell_type": "code",
      "metadata": {
        "id": "851Iam3CHGUd"
      },
      "source": [
        "test_features, test_labels = extract_features(1232, test_generator, 1)"
      ],
      "execution_count": null,
      "outputs": []
    },
    {
      "cell_type": "code",
      "metadata": {
        "id": "KjzvGdMLHDQu"
      },
      "source": [
        "from sklearn import metrics\n",
        "y_pred = model.predict(test_features)\n",
        "probas = np.array(y_pred)\n",
        "labels = []\n",
        "for prob in probas:\n",
        "  if prob < 0.5:\n",
        "    labels.append(0)\n",
        "  else:\n",
        "    labels.append(1)\n",
        "y_true_labels = test_labels\n",
        "y_pred_labels = labels\n",
        "from sklearn.metrics import accuracy_score, precision_score, recall_score, f1_score\n",
        "# accuracy: (tp + tn) / (p + n)\n",
        "accuracy = accuracy_score(y_true_labels, y_pred_labels)\n",
        "print('Accuracy: %f' % accuracy)\n",
        "# precision tp / (tp + fp)\n",
        "precision = precision_score(y_true_labels, y_pred_labels,pos_label='positive', average='micro')\n",
        "print('Precision: %f' % precision)\n",
        "# recall: tp / (tp + fn)\n",
        "recall = recall_score(y_true_labels, y_pred_labels, average='micro')\n",
        "print('Recall: %f' % recall)\n",
        "# f1: 2 tp / (2 tp + fp + fn)\n",
        "f1 = f1_score(y_true_labels, y_pred_labels, average='weighted')\n",
        "print('F1 score: %f' % f1)\n",
        "from sklearn.metrics import classification_report\n",
        "print(classification_report(y_true_labels, y_pred_labels, target_names=[\"covid\", \"normal\"]))\n",
        "from sklearn.metrics import confusion_matrix\n",
        "confusion_matrix(y_true_labels, y_pred_labels)"
      ],
      "execution_count": null,
      "outputs": []
    }
  ]
}